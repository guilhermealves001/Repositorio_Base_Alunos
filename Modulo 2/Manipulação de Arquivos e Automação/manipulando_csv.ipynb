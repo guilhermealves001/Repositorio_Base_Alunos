{
 "cells": [
  {
   "cell_type": "markdown",
   "id": "79457154",
   "metadata": {},
   "source": [
    "# CSV"
   ]
  },
  {
   "cell_type": "markdown",
   "id": "2f3f1229",
   "metadata": {},
   "source": [
    "csv (Comma-Separated Values) é um formato de texto simples usado para armazenar dados em formato de tabela, \n",
    "onde:\n",
    "- cada linha representa um registro \n",
    "- cada coluna é separada por virgulas (ou outro delimitador)\n",
    "- Pode ser aberto por excel, google sheets, pandas etc\n",
    "\n",
    "Exemplo de conteúdo de um aluno.csv:\n",
    "nome, idade, curso\n",
    "Maria, 30, python\n",
    "João, 25, data science\n",
    "\n",
    "O módulo csv permite ler e escrever arquivos csv facilmente .\n",
    "Ele oferece duas formas principais:\n",
    "- UIsando listas como csv.reader() e csv.writer()\n",
    "- Usando dicionarios com csv.DicReader() e csv.DicWrite()"
   ]
  },
  {
   "cell_type": "code",
   "execution_count": 5,
   "id": "c064f303",
   "metadata": {},
   "outputs": [],
   "source": [
    "import csv"
   ]
  },
  {
   "cell_type": "markdown",
   "id": "4c1a7ab5",
   "metadata": {},
   "source": [
    "# 1. Criar um CSV com csv.write()"
   ]
  },
  {
   "cell_type": "code",
   "execution_count": 6,
   "id": "5f0b40f5",
   "metadata": {},
   "outputs": [],
   "source": [
    "# 1. criar um csv com o csv.write()\n",
    "dados = [\n",
    "    ['nome', 'idade', 'curso'],\n",
    "    ['Maria', 30, 'Python'],\n",
    "    ['João', 25, 'Data science']\n",
    "]\n",
    "\n",
    "# Abrir o o arquivo em modo escrita ('w'), com encoding e newline='ArithmeticError'ArithmeticError'\n",
    "with open('alunos.csv', 'w', newline='', encoding='utf-8') as arquivo:\n",
    "    # criamos um objeto 'write' que é o escritor de um arquivo csv.\n",
    "    # Ele é responsável por transformar listas em linhas no arquivo csv\n",
    "    escritor = csv.writer(arquivo)\n",
    "    # Escrever todas as linhas de lista 'dados' de uma vez, writedowns é um metódo do objeto escritor\n",
    "    escritor.writerows(dados)"
   ]
  },
  {
   "cell_type": "markdown",
   "id": "a895f24b",
   "metadata": {},
   "source": [
    "Observação dobre o uso do newline=''\n",
    "Sempre use newline='' ao abrir o arquivo com open() para evitar quebras de linhas duplicadas, principalmente no windows"
   ]
  },
  {
   "cell_type": "markdown",
   "id": "4525d0b9",
   "metadata": {},
   "source": [
    "# 2.Ler um CSV com csv.reader()"
   ]
  },
  {
   "cell_type": "code",
   "execution_count": 7,
   "id": "d30b7410",
   "metadata": {},
   "outputs": [
    {
     "name": "stdout",
     "output_type": "stream",
     "text": [
      "['nome', 'idade', 'curso']\n",
      "['Maria', '30', 'Python']\n",
      "['João', '25', 'Data science']\n"
     ]
    }
   ],
   "source": [
    "# Abrimos o arquivo em modo leitura ('r'), com encoding\n",
    "with open ('alunos.csv', 'r', encoding='utf-8') as arquivo:\n",
    "    # o reader cria um objeto iterável que transforma cada linha do csv em uma lista \n",
    "    leitor = csv.reader(arquivo)\n",
    "\n",
    "    for linha in leitor:\n",
    "        print(linha)"
   ]
  },
  {
   "cell_type": "markdown",
   "id": "acee800a",
   "metadata": {},
   "source": [
    "# 3. Lendo como dicionário com csv.DictReader()\n"
   ]
  },
  {
   "cell_type": "code",
   "execution_count": 8,
   "id": "93e9e12e",
   "metadata": {},
   "outputs": [
    {
     "name": "stdout",
     "output_type": "stream",
     "text": [
      "{'nome': 'Maria', 'idade': '30', 'curso': 'Python'}\n",
      "{'nome': 'João', 'idade': '25', 'curso': 'Data science'}\n"
     ]
    }
   ],
   "source": [
    "# Abrimos o arquivo em modo leitura ('r'), com encoding\n",
    "with open ('alunos.csv', 'r', encoding='utf-8') as arquivo:\n",
    "    # o reader cria um objeto iterável que transforma cada linha do csv em uma lista \n",
    "    leitor = csv.DictReader(arquivo)\n",
    "\n",
    "    for linha in leitor:\n",
    "        print(linha)"
   ]
  },
  {
   "cell_type": "markdown",
   "id": "77eddaa5",
   "metadata": {},
   "source": [
    "# 4. Adicionando uma linha ao CSV"
   ]
  },
  {
   "cell_type": "code",
   "execution_count": 9,
   "id": "d4a64525",
   "metadata": {},
   "outputs": [],
   "source": [
    "nova_linha=['Fernando', 27, 'Banco de dados']\n",
    "with open('alunos.csv', 'a', newline='', encoding='utf-8') as arquivo:\n",
    "    escritor = csv.writer(arquivo)\n",
    "    escritor.writerow(nova_linha)"
   ]
  }
 ],
 "metadata": {
  "kernelspec": {
   "display_name": "Python 3",
   "language": "python",
   "name": "python3"
  },
  "language_info": {
   "codemirror_mode": {
    "name": "ipython",
    "version": 3
   },
   "file_extension": ".py",
   "mimetype": "text/x-python",
   "name": "python",
   "nbconvert_exporter": "python",
   "pygments_lexer": "ipython3",
   "version": "3.13.2"
  }
 },
 "nbformat": 4,
 "nbformat_minor": 5
}
