{
 "cells": [
  {
   "cell_type": "markdown",
   "id": "ba10c072",
   "metadata": {},
   "source": [
    "# JSON"
   ]
  },
  {
   "cell_type": "markdown",
   "id": "e9633484",
   "metadata": {},
   "source": [
    "O json é um formato que armazena informações na forma de código-fonte javascript em arquivos com formato de texto simples. Não é necessário conhecer a linguagem de programação java script para usar arquivos json, porém é util conhecer "
   ]
  },
  {
   "cell_type": "code",
   "execution_count": 1,
   "id": "2b595ace",
   "metadata": {},
   "outputs": [],
   "source": [
    "import json"
   ]
  },
  {
   "cell_type": "code",
   "execution_count": 3,
   "id": "45d7cf43",
   "metadata": {},
   "outputs": [],
   "source": [
    "# 1. Criando um arquivo json do zero\n",
    " \n",
    "dados = {\n",
    "    'nome': 'Maria',\n",
    "    'idade': 30,\n",
    "    'cursos': ['Python', 'Machine Learning']\n",
    "}\n",
    "\n",
    "with open('dados.json', 'w', encoding='utf-8') as arquivo:\n",
    "    json.dump(dados, arquivo, indent=4, ensure_ascii=False)"
   ]
  },
  {
   "cell_type": "markdown",
   "id": "dad8c46f",
   "metadata": {},
   "source": [
    "# 2. lendo um arquivo JSON"
   ]
  },
  {
   "cell_type": "code",
   "execution_count": 4,
   "id": "156d8bbc",
   "metadata": {},
   "outputs": [
    {
     "name": "stdout",
     "output_type": "stream",
     "text": [
      "{'nome': 'Maria', 'idade': 30, 'cursos': ['Python', 'Machine Learning']}\n",
      "<class 'dict'>\n"
     ]
    }
   ],
   "source": [
    "with open('dados.json', 'r', encoding='utf-8') as arquivo:\n",
    "    dados = json.load(arquivo)\n",
    "print(dados)\n",
    "print(type(dados))\n",
    "\n",
    "# json.load() converte o arquivo json para dicionário"
   ]
  },
  {
   "cell_type": "markdown",
   "id": "3cc380a3",
   "metadata": {},
   "source": [
    "# 3. Covertendo um objeto em uma string JSON"
   ]
  },
  {
   "cell_type": "code",
   "execution_count": 5,
   "id": "d2c24658",
   "metadata": {},
   "outputs": [
    {
     "name": "stdout",
     "output_type": "stream",
     "text": [
      "{\n",
      "  \"nome\": \"João\",\n",
      "  \"idade\": 35,\n",
      "  \"ativo\": true\n",
      "}\n",
      "<class 'str'>\n"
     ]
    }
   ],
   "source": [
    "dados = {\n",
    "    'nome':'João',\n",
    "    'idade':35,\n",
    "    'ativo': True\n",
    "}\n",
    "\n",
    "\n",
    "json_str = json.dumps(dados, indent=2, ensure_ascii=False)\n",
    "print(json_str)\n",
    "print(type(json_str))\n",
    "\n",
    "# json.dumps() = covertre um objeto python em uma string no formato json"
   ]
  }
 ],
 "metadata": {
  "kernelspec": {
   "display_name": "Python 3",
   "language": "python",
   "name": "python3"
  },
  "language_info": {
   "codemirror_mode": {
    "name": "ipython",
    "version": 3
   },
   "file_extension": ".py",
   "mimetype": "text/x-python",
   "name": "python",
   "nbconvert_exporter": "python",
   "pygments_lexer": "ipython3",
   "version": "3.13.2"
  }
 },
 "nbformat": 4,
 "nbformat_minor": 5
}
