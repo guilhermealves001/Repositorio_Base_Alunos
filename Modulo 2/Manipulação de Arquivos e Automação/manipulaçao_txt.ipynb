{
 "cells": [
  {
   "cell_type": "markdown",
   "id": "0a59bc5b",
   "metadata": {},
   "source": [
    "# Lendo um txt\n",
    "\n",
    "Em python, usamos a função open() para abrir arquivos"
   ]
  },
  {
   "cell_type": "code",
   "execution_count": 1,
   "id": "acf15991",
   "metadata": {},
   "outputs": [
    {
     "name": "stdout",
     "output_type": "stream",
     "text": [
      "<_io.TextIOWrapper name='hello_world.txt' mode='r' encoding='cp1252'>\n"
     ]
    }
   ],
   "source": [
    "arquivo = open('hello_world.txt', 'r')\n",
    "print(arquivo)"
   ]
  },
  {
   "cell_type": "markdown",
   "id": "5606fdc4",
   "metadata": {},
   "source": [
    "Os modos são:\n",
    "- r - leitura\n",
    "- w - escrita (sobrescreve)\n",
    "- a - Escrita (adicional no final)\n",
    "- x - escrita (cria novo arquivo)\n",
    "- b - modo binário\n",
    "- t - modo texto (padrão)"
   ]
  },
  {
   "cell_type": "markdown",
   "id": "5f858411",
   "metadata": {},
   "source": [
    "# Lendo um arquivo linha por linha"
   ]
  },
  {
   "cell_type": "code",
   "execution_count": 2,
   "id": "86c91b5e",
   "metadata": {},
   "outputs": [
    {
     "name": "stdout",
     "output_type": "stream",
     "text": [
      "Lendo o arquivo Hello world \n"
     ]
    }
   ],
   "source": [
    "with open('hello_world.txt', 'r') as f:\n",
    "    for linha in f:\n",
    "        print(linha)"
   ]
  },
  {
   "cell_type": "markdown",
   "id": "8ce026ca",
   "metadata": {},
   "source": [
    "O objeto _io.TextIOWrapper é a classe que representa arquivos abertos em modo texto em Python. Sempre que você abre um arquivo usando open() com o modo como r, w, a (ou seja, sem o modo binário, b), o que você recebe é uma instância de _io.TextIOWrapper."
   ]
  },
  {
   "cell_type": "code",
   "execution_count": 3,
   "id": "eee10f5c",
   "metadata": {},
   "outputs": [
    {
     "data": {
      "text/plain": [
       "_io.TextIOWrapper"
      ]
     },
     "execution_count": 3,
     "metadata": {},
     "output_type": "execute_result"
    }
   ],
   "source": [
    "type(arquivo)"
   ]
  }
 ],
 "metadata": {
  "kernelspec": {
   "display_name": "Python 3",
   "language": "python",
   "name": "python3"
  },
  "language_info": {
   "codemirror_mode": {
    "name": "ipython",
    "version": 3
   },
   "file_extension": ".py",
   "mimetype": "text/x-python",
   "name": "python",
   "nbconvert_exporter": "python",
   "pygments_lexer": "ipython3",
   "version": "3.13.2"
  }
 },
 "nbformat": 4,
 "nbformat_minor": 5
}
